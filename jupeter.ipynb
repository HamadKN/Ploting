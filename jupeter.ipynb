{
 "cells": [
  {
   "cell_type": "markdown",
   "metadata": {},
   "source": [
    "# this is a plot\n",
    "\n",
    "code is below\n"
   ]
  },
  {
   "cell_type": "code",
   "execution_count": null,
   "metadata": {},
   "outputs": [],
   "source": [
    "import seaborn as sns\n",
    "import matplotlib.pyplot as plt\n",
    "#set style\n",
    "sns.set_theme(style=\"darkgrid\",color_codes=\"true\")\n",
    "#load data set\n",
    "flower=sns.load_dataset(\"iris\")\n",
    "#draw a line plot\n",
    "sns.lineplot(x=\"sepal_length\",y=\"sepal_width\",data=flower)\n",
    "#adding title\n",
    "plt.title(\"Flower fig 1 \")\n",
    "plt.show()\n"
   ]
  }
 ],
 "metadata": {
  "interpreter": {
   "hash": "01434d683fac40ef7c1737f451fdbb6556dae922811faae5b300ad707f2bf2d8"
  },
  "kernelspec": {
   "display_name": "Python 3.10.2 64-bit",
   "language": "python",
   "name": "python3"
  },
  "language_info": {
   "name": "python",
   "version": "3.10.2"
  },
  "orig_nbformat": 4
 },
 "nbformat": 4,
 "nbformat_minor": 2
}
